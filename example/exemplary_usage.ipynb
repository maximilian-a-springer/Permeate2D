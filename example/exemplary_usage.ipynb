{
 "cells": [
  {
   "cell_type": "markdown",
   "id": "4f7fd1bd",
   "metadata": {},
   "source": [
    "# Intended usage of Permeate2D "
   ]
  },
  {
   "cell_type": "code",
   "execution_count": null,
   "id": "7bb689c4-223c-4b41-ae6a-a811eb3a79be",
   "metadata": {},
   "outputs": [],
   "source": [
    "from ase.visualize import view\n",
    "from permeate2d import Permeate2D"
   ]
  },
  {
   "cell_type": "markdown",
   "id": "8a45ea06",
   "metadata": {},
   "source": [
    "## Find rings and create coordinates"
   ]
  },
  {
   "cell_type": "markdown",
   "id": "32d8e872",
   "metadata": {},
   "source": [
    "Load a geometry, parsed with ase:"
   ]
  },
  {
   "cell_type": "code",
   "execution_count": null,
   "id": "566b7f96-d38f-4002-bccd-eeab58eba7a9",
   "metadata": {},
   "outputs": [],
   "source": [
    "creator = Permeate2D('geom.out.gen')"
   ]
  },
  {
   "cell_type": "markdown",
   "id": "d61c1002",
   "metadata": {},
   "source": [
    "Find all 7-membered rings in the structure:"
   ]
  },
  {
   "cell_type": "code",
   "execution_count": null,
   "id": "7cca94d9-6f38-437c-9c1b-98e6d583ee5f",
   "metadata": {},
   "outputs": [],
   "source": [
    "creator.find_rings(n=7, visualize=False)"
   ]
  },
  {
   "cell_type": "markdown",
   "id": "e3b88046",
   "metadata": {},
   "source": [
    "Find all 5-membered rings and visualize what was found. Here, ase.visualize is used and all the atoms that make up the found rings are shown as another species. This alternative species can be customized to avoid using atom types that are in the used structure."
   ]
  },
  {
   "cell_type": "code",
   "execution_count": null,
   "id": "99ff8238",
   "metadata": {},
   "outputs": [],
   "source": [
    "creator.find_rings(n=5, visualize=True, vis_species='S')"
   ]
  },
  {
   "cell_type": "markdown",
   "id": "0ad7cc4e",
   "metadata": {},
   "source": [
    "The atom indexes of the found atoms can also be displayed:"
   ]
  },
  {
   "cell_type": "code",
   "execution_count": null,
   "id": "0410d58c-6fa1-4cab-ae22-794d5c8d122f",
   "metadata": {},
   "outputs": [],
   "source": [
    "creator.rings"
   ]
  },
  {
   "cell_type": "markdown",
   "id": "d9559e21",
   "metadata": {},
   "source": [
    "Save the found information in `rings.json`, which can be used to later load the results:"
   ]
  },
  {
   "cell_type": "code",
   "execution_count": null,
   "id": "64f90581-d2fc-4cc9-84dc-5fd179478448",
   "metadata": {},
   "outputs": [],
   "source": [
    "creator.save_rings('rings.json')"
   ]
  },
  {
   "cell_type": "markdown",
   "id": "072cd88d",
   "metadata": {},
   "source": [
    "### <i>Optional:</i>"
   ]
  },
  {
   "cell_type": "markdown",
   "id": "586d3137",
   "metadata": {},
   "source": [
    "Add rings manually:"
   ]
  },
  {
   "cell_type": "code",
   "execution_count": null,
   "id": "3e5db200",
   "metadata": {},
   "outputs": [],
   "source": [
    "creator.add_rings([[82, 80, 99, 100, 101]])"
   ]
  },
  {
   "cell_type": "markdown",
   "id": "fe4f020a",
   "metadata": {},
   "source": [
    "Reset information:"
   ]
  },
  {
   "cell_type": "code",
   "execution_count": null,
   "id": "6f102ca1-36e8-499f-9636-d0338b80a4b8",
   "metadata": {},
   "outputs": [],
   "source": [
    "creator.reset_rings()"
   ]
  },
  {
   "cell_type": "markdown",
   "id": "c7c2fd42",
   "metadata": {},
   "source": [
    "Load info from file:"
   ]
  },
  {
   "cell_type": "code",
   "execution_count": null,
   "id": "d50af2bf",
   "metadata": {},
   "outputs": [],
   "source": [
    "creator.load_rings('rings.json')"
   ]
  },
  {
   "cell_type": "markdown",
   "id": "a02a77f4",
   "metadata": {},
   "source": [
    "## Create trajectory with hydrogen atoms"
   ]
  },
  {
   "cell_type": "markdown",
   "id": "6f1ea638",
   "metadata": {},
   "source": [
    "Create a list with four trajectories: one for each of the four found 5- and 7-membered rings. The atoms objects contain the graphene flake with hydrogen atoms within 5 Angstrom to either side of the flake and a step size of 0.2 Angstrom."
   ]
  },
  {
   "cell_type": "code",
   "execution_count": null,
   "id": "1d9e2a33",
   "metadata": {},
   "outputs": [],
   "source": [
    "geometries = creator.generate(0.7, 0.1, 'H')"
   ]
  },
  {
   "cell_type": "code",
   "execution_count": null,
   "id": "1cf191c1-8da6-4bd2-ba40-a3348d76d16d",
   "metadata": {},
   "outputs": [],
   "source": [
    "view(geometries[1])"
   ]
  }
 ],
 "metadata": {
  "kernelspec": {
   "display_name": "defectenv",
   "language": "python",
   "name": "defectenv"
  },
  "language_info": {
   "codemirror_mode": {
    "name": "ipython",
    "version": 3
   },
   "file_extension": ".py",
   "mimetype": "text/x-python",
   "name": "python",
   "nbconvert_exporter": "python",
   "pygments_lexer": "ipython3",
   "version": "3.10.4"
  }
 },
 "nbformat": 4,
 "nbformat_minor": 5
}
